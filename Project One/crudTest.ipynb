{
 "cells": [
  {
   "cell_type": "code",
   "execution_count": 4,
   "id": "56c622f7",
   "metadata": {
    "scrolled": true
   },
   "outputs": [
    {
     "name": "stdout",
     "output_type": "stream",
     "text": [
      "Insert Test: True\n",
      "Read Test: [{'_id': ObjectId('65c406be049db7b41b445bde'), 'animal_id': 'idk', 'animal_type': 'Cat', 'color': 'orange', 'breed': 'Special Testing Breed'}]\n",
      "\n",
      "Update Test: 1\n",
      "Read Test: [{'_id': ObjectId('65c406be049db7b41b445bde'), 'animal_id': 'idk', 'animal_type': 'Cat', 'color': 'green', 'breed': 'Special Testing Breed'}]\n",
      "Update Test: 0\n",
      "Read Test: [{'_id': ObjectId('65c406be049db7b41b445bde'), 'animal_id': 'idk', 'animal_type': 'Cat', 'color': 'green', 'breed': 'Special Testing Breed'}]\n",
      "\n",
      "Insert Test: False\n",
      "Read Test: []\n",
      "\n",
      "Delete Test: 1\n",
      "Delete Test: 0\n"
     ]
    }
   ],
   "source": [
    "import crud\n",
    "\n",
    "dataToInsert = {\"animal_id\": \"idk\", \n",
    "        \"animal_type\": \"Cat\", \n",
    "        \"color\": \"orange\",\n",
    "        \"breed\": \"Special Testing Breed\"}\n",
    "dataToFind = {\"breed\": \"Special Testing Breed\"}\n",
    "dataToUpdate = {\"color\": \"green\"}\n",
    "dataToDelete = {\"animal_id\": \"idk\"}\n",
    "aac = crud.AnimalShelter()\n",
    "\n",
    "print(\"Insert Test:\", aac.create(dataToInsert)) # Successful insert\n",
    "print(\"Read Test:\", aac.read(dataToFind)) # Successful read\n",
    "\n",
    "print()\n",
    "\n",
    "# Sucessful update\n",
    "print(\"Update Test:\", aac.update(dataToFind, dataToUpdate))\n",
    "print(\"Read Test:\", aac.read(dataToFind))\n",
    "\n",
    "# Failed update\n",
    "print(\"Update Test:\", aac.update(dataToFind, dataToUpdate))\n",
    "print(\"Read Test:\", aac.read(dataToFind))\n",
    "\n",
    "print()\n",
    "\n",
    "print(\"Insert Test:\", aac.create(dataToInsert)) # Failed insert\n",
    "print(\"Read Test:\", aac.read({\"breed\": \"jfhakjlfh\"})) # Failed read\n",
    "\n",
    "print()\n",
    "\n",
    "print(\"Delete Test:\", aac.delete(dataToDelete)) # Successful delete\n",
    "print(\"Delete Test:\", aac.delete(dataToDelete)) # Failed delete"
   ]
  },
  {
   "cell_type": "code",
   "execution_count": null,
   "id": "0ed13f7b",
   "metadata": {},
   "outputs": [],
   "source": []
  }
 ],
 "metadata": {
  "kernelspec": {
   "display_name": "Python 3 (ipykernel)",
   "language": "python",
   "name": "python3"
  },
  "language_info": {
   "codemirror_mode": {
    "name": "ipython",
    "version": 3
   },
   "file_extension": ".py",
   "mimetype": "text/x-python",
   "name": "python",
   "nbconvert_exporter": "python",
   "pygments_lexer": "ipython3",
   "version": "3.9.12"
  }
 },
 "nbformat": 4,
 "nbformat_minor": 5
}
